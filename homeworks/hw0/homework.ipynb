<<<<<<< HEAD
{"cells":[{"cell_type":"markdown","metadata":{"id":"kd21g3GmFxFk"},"source":["# Домашнее задание 0"]},{"cell_type":"code","execution_count":1,"metadata":{"id":"3mEG8ZBHFxFl","executionInfo":{"status":"ok","timestamp":1739815615249,"user_tz":-180,"elapsed":895,"user":{"displayName":"Михаил Гумиров","userId":"07617104650422369952"}},"outputId":"033a5a8b-2e67-48f4-832a-dbdce0398252","colab":{"base_uri":"https://localhost:8080/"}},"outputs":[{"output_type":"stream","name":"stdout","text":["Привет, мир!\n"]}],"source":["def hello():\n","    return \"Привет, мир!\"\n","\n","\n","print(hello())\n"]}],"metadata":{"kernelspec":{"display_name":"Python 3","language":"python","name":"python3"},"language_info":{"codemirror_mode":{"name":"ipython","version":3},"file_extension":".py","mimetype":"text/x-python","name":"python","nbconvert_exporter":"python","pygments_lexer":"ipython3","version":"3.12.4"},"colab":{"provenance":[],"toc_visible":true}},"nbformat":4,"nbformat_minor":0}
=======
{
 "cells": [
  {
   "cell_type": "markdown",
   "metadata": {},
   "source": [
    "# Домашнее задание 0"
   ]
  },
  {
   "cell_type": "code",
   "execution_count": 1,
   "metadata": {},
   "outputs": [
    {
     "data": {
      "text/plain": [
       "True"
      ]
     },
     "execution_count": 1,
     "metadata": {},
     "output_type": "execute_result"
    }
   ],
   "source": [
    "def hello():\n",
    "    return \"Привет, мир!\"\n",
    "\n",
    "\n",
    "hello() == \"Привет, мир!\"\n"
   ]
  }
 ],
 "metadata": {
  "kernelspec": {
   "display_name": "DataSphere Kernel",
   "language": "python",
   "name": "python3"
  },
  "language_info": {
   "codemirror_mode": {
    "name": "ipython",
    "version": 3
   },
   "file_extension": ".py",
   "mimetype": "text/x-python",
   "name": "python",
   "nbconvert_exporter": "python",
   "pygments_lexer": "ipython3",
   "version": "3.10.12"
  }
 },
 "nbformat": 4,
 "nbformat_minor": 4
}
>>>>>>> upstream/master
